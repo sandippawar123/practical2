{
  "nbformat": 4,
  "nbformat_minor": 0,
  "metadata": {
    "colab": {
      "name": "practical 2;l.ipynb",
      "provenance": []
    },
    "kernelspec": {
      "name": "python3",
      "display_name": "Python 3"
    },
    "language_info": {
      "name": "python"
    }
  },
  "cells": [
    {
      "cell_type": "markdown",
      "source": [
        "write a program to demonstrate number data types in phython"
      ],
      "metadata": {
        "id": "DmaUQnnYx-Mh"
      }
    },
    {
      "cell_type": "code",
      "execution_count": 2,
      "metadata": {
        "colab": {
          "base_uri": "https://localhost:8080/"
        },
        "id": "YVZMz7AfxzDO",
        "outputId": "e6ebf4ed-b0d3-4696-e63d-b78f0148d7de"
      },
      "outputs": [
        {
          "output_type": "stream",
          "name": "stdout",
          "text": [
            "30\n",
            "<class 'int'>\n",
            "20.56\n",
            "<class 'float'>\n",
            "6j\n",
            "<class 'complex'>\n"
          ]
        }
      ],
      "source": [
        "x = 30     #int\n",
        "print(x)\n",
        "print(type(x))\n",
        "x = 20.56 #float\n",
        "print(x)\n",
        "print(type(x))\n",
        "x = 6j        #complex\n",
        "print(x)\n",
        "print(type(x))"
      ]
    },
    {
      "cell_type": "code",
      "source": [
        "#String\n",
        "x = \"rcpit college\"   \n",
        "print(x)\n",
        "print(type(x))"
      ],
      "metadata": {
        "colab": {
          "base_uri": "https://localhost:8080/"
        },
        "id": "mK9T0Bbey0UY",
        "outputId": "f9fa3d91-8d11-4d79-9a71-1deaf6aad7b1"
      },
      "execution_count": 4,
      "outputs": [
        {
          "output_type": "stream",
          "name": "stdout",
          "text": [
            "rcpit college\n",
            "<class 'str'>\n"
          ]
        }
      ]
    },
    {
      "cell_type": "code",
      "source": [
        "x = [ \"shirpur\", \"amlner\"]       #list\n",
        "print(x)\n",
        "print(type(x))"
      ],
      "metadata": {
        "colab": {
          "base_uri": "https://localhost:8080/"
        },
        "id": "o_ulI9mzzIPS",
        "outputId": "8c0f237e-8fa1-45e9-8e85-5072163896f4"
      },
      "execution_count": 8,
      "outputs": [
        {
          "output_type": "stream",
          "name": "stdout",
          "text": [
            "['shirpur', 'amlner']\n",
            "<class 'list'>\n"
          ]
        }
      ]
    },
    {
      "cell_type": "code",
      "source": [
        "x = (\"Python\", \"c\", \"c++\")       #tuple\n",
        "print(x)\n",
        "print(type(x))"
      ],
      "metadata": {
        "colab": {
          "base_uri": "https://localhost:8080/"
        },
        "id": "d5If-j6Xz2jK",
        "outputId": "56063de9-c0b5-4c3f-eb45-f5eeb5c106fa"
      },
      "execution_count": 10,
      "outputs": [
        {
          "output_type": "stream",
          "name": "stdout",
          "text": [
            "('Python', 'c', 'c++')\n",
            "<class 'tuple'>\n"
          ]
        }
      ]
    },
    {
      "cell_type": "code",
      "source": [
        "x = {\"name\" : \"anu\", \"sam\" : 36}  #dict\n",
        "print(x)\n",
        "print(type(x))"
      ],
      "metadata": {
        "colab": {
          "base_uri": "https://localhost:8080/"
        },
        "id": "Vu36juHK0G33",
        "outputId": "ed6fd938-6945-4824-9372-530dda28f9fe"
      },
      "execution_count": 12,
      "outputs": [
        {
          "output_type": "stream",
          "name": "stdout",
          "text": [
            "{'name': 'anu', 'sam': 36}\n",
            "<class 'dict'>\n"
          ]
        }
      ]
    },
    {
      "cell_type": "code",
      "source": [
        "x = True  #bool\n",
        "print(x)\n",
        "print(type(x))\n",
        "x = b\"Hello\"  #bytes\n",
        "print(x)\n",
        "print(type(x))"
      ],
      "metadata": {
        "colab": {
          "base_uri": "https://localhost:8080/"
        },
        "id": "oYQRS3820ctP",
        "outputId": "b539fb0e-db48-437a-ab1d-49a5f4689479"
      },
      "execution_count": 13,
      "outputs": [
        {
          "output_type": "stream",
          "name": "stdout",
          "text": [
            "True\n",
            "<class 'bool'>\n",
            "b'Hello'\n",
            "<class 'bytes'>\n"
          ]
        }
      ]
    },
    {
      "cell_type": "code",
      "source": [
        "x = {\"dl\", \"python\", \"ml\"}   #set\n",
        "print(x)\n",
        "print(type(x))\n",
        "x = frozenset({\"opencv\", \"pandas\", \"numpy\"}) #frozenset\n",
        "print(x)\n",
        "print(type(x))"
      ],
      "metadata": {
        "colab": {
          "base_uri": "https://localhost:8080/"
        },
        "id": "n_7-WMB90jU2",
        "outputId": "c4375e76-c32f-4857-dd22-fb3bf6d4b95a"
      },
      "execution_count": 14,
      "outputs": [
        {
          "output_type": "stream",
          "name": "stdout",
          "text": [
            "{'python', 'ml', 'dl'}\n",
            "<class 'set'>\n",
            "frozenset({'opencv', 'pandas', 'numpy'})\n",
            "<class 'frozenset'>\n"
          ]
        }
      ]
    }
  ]
}